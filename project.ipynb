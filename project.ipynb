{
 "cells": [
  {
   "cell_type": "markdown",
   "metadata": {},
   "source": [
    "# Détection de Fraude à la carte bancaire\n",
    "\n",
    "Vous allez travailler sur un vrai jeu de données anonymisé contenant une liste de transaction avec des propriétés ainsi qu'une classe : transaction valide ou frauduleuse.\n",
    "\n",
    "Ce projet va vous permettre par la pratique de découvrir le cycle de vie d'un travail de Machine Learning pour la détection d'anomalies.\n",
    "\n",
    "L'ensemble des fonctions vous seront fournises, ce qui vous permettra de intéresser au \"QUOI\" et au \"POURQUOI\" plutôt que sur le \"COMMENT\"."
   ]
  },
  {
   "cell_type": "markdown",
   "metadata": {},
   "source": [
    "## Cycle de vie du Machine Learning\n",
    "\n",
    "Chaque projet de Machine Learning passe par plusieurs étapes :\n",
    "\n",
    "1. Découverte et compréhension des données\n",
    "2. Nettoyage (statistique) des données\n",
    "3. Choix du/des modèle(s) de Machine Learning en fonction du problème posé\n",
    "4. Entraînement du/des modèle(s) et évaluation des résultats\n",
    "5. Optimisation du/des modèle(s) => vous ferez pas cette partie en autonomie ! "
   ]
  },
  {
   "cell_type": "markdown",
   "metadata": {},
   "source": [
    "## Découverte et compréhension des données"
   ]
  },
  {
   "cell_type": "code",
   "execution_count": 27,
   "metadata": {},
   "outputs": [
    {
     "data": {
      "text/html": [
       "<div>\n",
       "<style scoped>\n",
       "    .dataframe tbody tr th:only-of-type {\n",
       "        vertical-align: middle;\n",
       "    }\n",
       "\n",
       "    .dataframe tbody tr th {\n",
       "        vertical-align: top;\n",
       "    }\n",
       "\n",
       "    .dataframe thead th {\n",
       "        text-align: right;\n",
       "    }\n",
       "</style>\n",
       "<table border=\"1\" class=\"dataframe\">\n",
       "  <thead>\n",
       "    <tr style=\"text-align: right;\">\n",
       "      <th></th>\n",
       "      <th>time</th>\n",
       "      <th>v1</th>\n",
       "      <th>v2</th>\n",
       "      <th>v3</th>\n",
       "      <th>v4</th>\n",
       "      <th>v5</th>\n",
       "      <th>v6</th>\n",
       "      <th>v7</th>\n",
       "      <th>v8</th>\n",
       "      <th>v9</th>\n",
       "      <th>...</th>\n",
       "      <th>v21</th>\n",
       "      <th>v22</th>\n",
       "      <th>v23</th>\n",
       "      <th>v24</th>\n",
       "      <th>v25</th>\n",
       "      <th>v26</th>\n",
       "      <th>v27</th>\n",
       "      <th>v28</th>\n",
       "      <th>amount</th>\n",
       "      <th>legit</th>\n",
       "    </tr>\n",
       "  </thead>\n",
       "  <tbody>\n",
       "    <tr>\n",
       "      <th>0</th>\n",
       "      <td>0.0</td>\n",
       "      <td>-1.359807</td>\n",
       "      <td>-0.072781</td>\n",
       "      <td>2.536347</td>\n",
       "      <td>1.378155</td>\n",
       "      <td>-0.338321</td>\n",
       "      <td>0.462388</td>\n",
       "      <td>0.239599</td>\n",
       "      <td>0.098698</td>\n",
       "      <td>0.363787</td>\n",
       "      <td>...</td>\n",
       "      <td>-0.018307</td>\n",
       "      <td>0.277838</td>\n",
       "      <td>-0.110474</td>\n",
       "      <td>0.066928</td>\n",
       "      <td>0.128539</td>\n",
       "      <td>-0.189115</td>\n",
       "      <td>0.133558</td>\n",
       "      <td>-0.021053</td>\n",
       "      <td>149.62</td>\n",
       "      <td>0</td>\n",
       "    </tr>\n",
       "    <tr>\n",
       "      <th>1</th>\n",
       "      <td>0.0</td>\n",
       "      <td>1.191857</td>\n",
       "      <td>0.266151</td>\n",
       "      <td>0.166480</td>\n",
       "      <td>0.448154</td>\n",
       "      <td>0.060018</td>\n",
       "      <td>-0.082361</td>\n",
       "      <td>-0.078803</td>\n",
       "      <td>0.085102</td>\n",
       "      <td>-0.255425</td>\n",
       "      <td>...</td>\n",
       "      <td>-0.225775</td>\n",
       "      <td>-0.638672</td>\n",
       "      <td>0.101288</td>\n",
       "      <td>-0.339846</td>\n",
       "      <td>0.167170</td>\n",
       "      <td>0.125895</td>\n",
       "      <td>-0.008983</td>\n",
       "      <td>0.014724</td>\n",
       "      <td>2.69</td>\n",
       "      <td>0</td>\n",
       "    </tr>\n",
       "    <tr>\n",
       "      <th>2</th>\n",
       "      <td>1.0</td>\n",
       "      <td>-1.358354</td>\n",
       "      <td>-1.340163</td>\n",
       "      <td>1.773209</td>\n",
       "      <td>0.379780</td>\n",
       "      <td>-0.503198</td>\n",
       "      <td>1.800499</td>\n",
       "      <td>0.791461</td>\n",
       "      <td>0.247676</td>\n",
       "      <td>-1.514654</td>\n",
       "      <td>...</td>\n",
       "      <td>0.247998</td>\n",
       "      <td>0.771679</td>\n",
       "      <td>0.909412</td>\n",
       "      <td>-0.689281</td>\n",
       "      <td>-0.327642</td>\n",
       "      <td>-0.139097</td>\n",
       "      <td>-0.055353</td>\n",
       "      <td>-0.059752</td>\n",
       "      <td>378.66</td>\n",
       "      <td>0</td>\n",
       "    </tr>\n",
       "    <tr>\n",
       "      <th>3</th>\n",
       "      <td>1.0</td>\n",
       "      <td>-0.966272</td>\n",
       "      <td>-0.185226</td>\n",
       "      <td>1.792993</td>\n",
       "      <td>-0.863291</td>\n",
       "      <td>-0.010309</td>\n",
       "      <td>1.247203</td>\n",
       "      <td>0.237609</td>\n",
       "      <td>0.377436</td>\n",
       "      <td>-1.387024</td>\n",
       "      <td>...</td>\n",
       "      <td>-0.108300</td>\n",
       "      <td>0.005274</td>\n",
       "      <td>-0.190321</td>\n",
       "      <td>-1.175575</td>\n",
       "      <td>0.647376</td>\n",
       "      <td>-0.221929</td>\n",
       "      <td>0.062723</td>\n",
       "      <td>0.061458</td>\n",
       "      <td>123.50</td>\n",
       "      <td>0</td>\n",
       "    </tr>\n",
       "    <tr>\n",
       "      <th>4</th>\n",
       "      <td>2.0</td>\n",
       "      <td>-1.158233</td>\n",
       "      <td>0.877737</td>\n",
       "      <td>1.548718</td>\n",
       "      <td>0.403034</td>\n",
       "      <td>-0.407193</td>\n",
       "      <td>0.095921</td>\n",
       "      <td>0.592941</td>\n",
       "      <td>-0.270533</td>\n",
       "      <td>0.817739</td>\n",
       "      <td>...</td>\n",
       "      <td>-0.009431</td>\n",
       "      <td>0.798278</td>\n",
       "      <td>-0.137458</td>\n",
       "      <td>0.141267</td>\n",
       "      <td>-0.206010</td>\n",
       "      <td>0.502292</td>\n",
       "      <td>0.219422</td>\n",
       "      <td>0.215153</td>\n",
       "      <td>69.99</td>\n",
       "      <td>0</td>\n",
       "    </tr>\n",
       "  </tbody>\n",
       "</table>\n",
       "<p>5 rows × 31 columns</p>\n",
       "</div>"
      ],
      "text/plain": [
       "   time        v1        v2        v3        v4        v5        v6        v7  \\\n",
       "0   0.0 -1.359807 -0.072781  2.536347  1.378155 -0.338321  0.462388  0.239599   \n",
       "1   0.0  1.191857  0.266151  0.166480  0.448154  0.060018 -0.082361 -0.078803   \n",
       "2   1.0 -1.358354 -1.340163  1.773209  0.379780 -0.503198  1.800499  0.791461   \n",
       "3   1.0 -0.966272 -0.185226  1.792993 -0.863291 -0.010309  1.247203  0.237609   \n",
       "4   2.0 -1.158233  0.877737  1.548718  0.403034 -0.407193  0.095921  0.592941   \n",
       "\n",
       "         v8        v9  ...       v21       v22       v23       v24       v25  \\\n",
       "0  0.098698  0.363787  ... -0.018307  0.277838 -0.110474  0.066928  0.128539   \n",
       "1  0.085102 -0.255425  ... -0.225775 -0.638672  0.101288 -0.339846  0.167170   \n",
       "2  0.247676 -1.514654  ...  0.247998  0.771679  0.909412 -0.689281 -0.327642   \n",
       "3  0.377436 -1.387024  ... -0.108300  0.005274 -0.190321 -1.175575  0.647376   \n",
       "4 -0.270533  0.817739  ... -0.009431  0.798278 -0.137458  0.141267 -0.206010   \n",
       "\n",
       "        v26       v27       v28  amount  legit  \n",
       "0 -0.189115  0.133558 -0.021053  149.62      0  \n",
       "1  0.125895 -0.008983  0.014724    2.69      0  \n",
       "2 -0.139097 -0.055353 -0.059752  378.66      0  \n",
       "3 -0.221929  0.062723  0.061458  123.50      0  \n",
       "4  0.502292  0.219422  0.215153   69.99      0  \n",
       "\n",
       "[5 rows x 31 columns]"
      ]
     },
     "execution_count": 27,
     "metadata": {},
     "output_type": "execute_result"
    }
   ],
   "source": [
    "import pandas as pd\n",
    "\n",
    "transactions = pd.read_csv('creditcard_data.csv')\n",
    "\n",
    "transactions.head()"
   ]
  },
  {
   "cell_type": "markdown",
   "metadata": {},
   "source": [
    "Pour commencer, utilisez les fonctions pandas à votre disposition pour évaluer une première fois l'échantillon de données fournies :\n",
    "\n",
    "* `transactions.info()`\n",
    "* `transactions.describe()`\n",
    "* `transactions.columns`"
   ]
  },
  {
   "cell_type": "code",
   "execution_count": 28,
   "metadata": {},
   "outputs": [
    {
     "name": "stdout",
     "output_type": "stream",
     "text": [
      "<class 'pandas.core.frame.DataFrame'>\n",
      "RangeIndex: 284807 entries, 0 to 284806\n",
      "Data columns (total 31 columns):\n",
      " #   Column  Non-Null Count   Dtype  \n",
      "---  ------  --------------   -----  \n",
      " 0   time    284807 non-null  float64\n",
      " 1   v1      284807 non-null  float64\n",
      " 2   v2      284807 non-null  float64\n",
      " 3   v3      284807 non-null  float64\n",
      " 4   v4      284807 non-null  float64\n",
      " 5   v5      284807 non-null  float64\n",
      " 6   v6      284807 non-null  float64\n",
      " 7   v7      284807 non-null  float64\n",
      " 8   v8      284807 non-null  float64\n",
      " 9   v9      284807 non-null  float64\n",
      " 10  v10     284807 non-null  float64\n",
      " 11  v11     284807 non-null  float64\n",
      " 12  v12     284807 non-null  float64\n",
      " 13  v13     284807 non-null  float64\n",
      " 14  v14     284807 non-null  float64\n",
      " 15  v15     284807 non-null  float64\n",
      " 16  v16     284807 non-null  float64\n",
      " 17  v17     284807 non-null  float64\n",
      " 18  v18     284807 non-null  float64\n",
      " 19  v19     284807 non-null  float64\n",
      " 20  v20     284807 non-null  float64\n",
      " 21  v21     284807 non-null  float64\n",
      " 22  v22     284807 non-null  float64\n",
      " 23  v23     284807 non-null  float64\n",
      " 24  v24     284807 non-null  float64\n",
      " 25  v25     284807 non-null  float64\n",
      " 26  v26     284807 non-null  float64\n",
      " 27  v27     284807 non-null  float64\n",
      " 28  v28     284807 non-null  float64\n",
      " 29  amount  284807 non-null  float64\n",
      " 30  legit   284807 non-null  int64  \n",
      "dtypes: float64(30), int64(1)\n",
      "memory usage: 67.4 MB\n"
     ]
    }
   ],
   "source": [
    "transactions.info()"
   ]
  },
  {
   "cell_type": "code",
   "execution_count": 29,
   "metadata": {},
   "outputs": [
    {
     "data": {
      "text/html": [
       "<div>\n",
       "<style scoped>\n",
       "    .dataframe tbody tr th:only-of-type {\n",
       "        vertical-align: middle;\n",
       "    }\n",
       "\n",
       "    .dataframe tbody tr th {\n",
       "        vertical-align: top;\n",
       "    }\n",
       "\n",
       "    .dataframe thead th {\n",
       "        text-align: right;\n",
       "    }\n",
       "</style>\n",
       "<table border=\"1\" class=\"dataframe\">\n",
       "  <thead>\n",
       "    <tr style=\"text-align: right;\">\n",
       "      <th></th>\n",
       "      <th>time</th>\n",
       "      <th>v1</th>\n",
       "      <th>v2</th>\n",
       "      <th>v3</th>\n",
       "      <th>v4</th>\n",
       "      <th>v5</th>\n",
       "      <th>v6</th>\n",
       "      <th>v7</th>\n",
       "      <th>v8</th>\n",
       "      <th>v9</th>\n",
       "      <th>...</th>\n",
       "      <th>v21</th>\n",
       "      <th>v22</th>\n",
       "      <th>v23</th>\n",
       "      <th>v24</th>\n",
       "      <th>v25</th>\n",
       "      <th>v26</th>\n",
       "      <th>v27</th>\n",
       "      <th>v28</th>\n",
       "      <th>amount</th>\n",
       "      <th>legit</th>\n",
       "    </tr>\n",
       "  </thead>\n",
       "  <tbody>\n",
       "    <tr>\n",
       "      <th>count</th>\n",
       "      <td>284807.000000</td>\n",
       "      <td>2.848070e+05</td>\n",
       "      <td>2.848070e+05</td>\n",
       "      <td>2.848070e+05</td>\n",
       "      <td>2.848070e+05</td>\n",
       "      <td>2.848070e+05</td>\n",
       "      <td>2.848070e+05</td>\n",
       "      <td>2.848070e+05</td>\n",
       "      <td>2.848070e+05</td>\n",
       "      <td>2.848070e+05</td>\n",
       "      <td>...</td>\n",
       "      <td>2.848070e+05</td>\n",
       "      <td>2.848070e+05</td>\n",
       "      <td>2.848070e+05</td>\n",
       "      <td>2.848070e+05</td>\n",
       "      <td>2.848070e+05</td>\n",
       "      <td>2.848070e+05</td>\n",
       "      <td>2.848070e+05</td>\n",
       "      <td>2.848070e+05</td>\n",
       "      <td>284807.000000</td>\n",
       "      <td>284807.000000</td>\n",
       "    </tr>\n",
       "    <tr>\n",
       "      <th>mean</th>\n",
       "      <td>94813.859575</td>\n",
       "      <td>1.168375e-15</td>\n",
       "      <td>3.416908e-16</td>\n",
       "      <td>-1.379537e-15</td>\n",
       "      <td>2.074095e-15</td>\n",
       "      <td>9.604066e-16</td>\n",
       "      <td>1.487313e-15</td>\n",
       "      <td>-5.556467e-16</td>\n",
       "      <td>1.213481e-16</td>\n",
       "      <td>-2.406331e-15</td>\n",
       "      <td>...</td>\n",
       "      <td>1.654067e-16</td>\n",
       "      <td>-3.568593e-16</td>\n",
       "      <td>2.578648e-16</td>\n",
       "      <td>4.473266e-15</td>\n",
       "      <td>5.340915e-16</td>\n",
       "      <td>1.683437e-15</td>\n",
       "      <td>-3.660091e-16</td>\n",
       "      <td>-1.227390e-16</td>\n",
       "      <td>88.349619</td>\n",
       "      <td>0.001727</td>\n",
       "    </tr>\n",
       "    <tr>\n",
       "      <th>std</th>\n",
       "      <td>47488.145955</td>\n",
       "      <td>1.958696e+00</td>\n",
       "      <td>1.651309e+00</td>\n",
       "      <td>1.516255e+00</td>\n",
       "      <td>1.415869e+00</td>\n",
       "      <td>1.380247e+00</td>\n",
       "      <td>1.332271e+00</td>\n",
       "      <td>1.237094e+00</td>\n",
       "      <td>1.194353e+00</td>\n",
       "      <td>1.098632e+00</td>\n",
       "      <td>...</td>\n",
       "      <td>7.345240e-01</td>\n",
       "      <td>7.257016e-01</td>\n",
       "      <td>6.244603e-01</td>\n",
       "      <td>6.056471e-01</td>\n",
       "      <td>5.212781e-01</td>\n",
       "      <td>4.822270e-01</td>\n",
       "      <td>4.036325e-01</td>\n",
       "      <td>3.300833e-01</td>\n",
       "      <td>250.120109</td>\n",
       "      <td>0.041527</td>\n",
       "    </tr>\n",
       "    <tr>\n",
       "      <th>min</th>\n",
       "      <td>0.000000</td>\n",
       "      <td>-5.640751e+01</td>\n",
       "      <td>-7.271573e+01</td>\n",
       "      <td>-4.832559e+01</td>\n",
       "      <td>-5.683171e+00</td>\n",
       "      <td>-1.137433e+02</td>\n",
       "      <td>-2.616051e+01</td>\n",
       "      <td>-4.355724e+01</td>\n",
       "      <td>-7.321672e+01</td>\n",
       "      <td>-1.343407e+01</td>\n",
       "      <td>...</td>\n",
       "      <td>-3.483038e+01</td>\n",
       "      <td>-1.093314e+01</td>\n",
       "      <td>-4.480774e+01</td>\n",
       "      <td>-2.836627e+00</td>\n",
       "      <td>-1.029540e+01</td>\n",
       "      <td>-2.604551e+00</td>\n",
       "      <td>-2.256568e+01</td>\n",
       "      <td>-1.543008e+01</td>\n",
       "      <td>0.000000</td>\n",
       "      <td>0.000000</td>\n",
       "    </tr>\n",
       "    <tr>\n",
       "      <th>25%</th>\n",
       "      <td>54201.500000</td>\n",
       "      <td>-9.203734e-01</td>\n",
       "      <td>-5.985499e-01</td>\n",
       "      <td>-8.903648e-01</td>\n",
       "      <td>-8.486401e-01</td>\n",
       "      <td>-6.915971e-01</td>\n",
       "      <td>-7.682956e-01</td>\n",
       "      <td>-5.540759e-01</td>\n",
       "      <td>-2.086297e-01</td>\n",
       "      <td>-6.430976e-01</td>\n",
       "      <td>...</td>\n",
       "      <td>-2.283949e-01</td>\n",
       "      <td>-5.423504e-01</td>\n",
       "      <td>-1.618463e-01</td>\n",
       "      <td>-3.545861e-01</td>\n",
       "      <td>-3.171451e-01</td>\n",
       "      <td>-3.269839e-01</td>\n",
       "      <td>-7.083953e-02</td>\n",
       "      <td>-5.295979e-02</td>\n",
       "      <td>5.600000</td>\n",
       "      <td>0.000000</td>\n",
       "    </tr>\n",
       "    <tr>\n",
       "      <th>50%</th>\n",
       "      <td>84692.000000</td>\n",
       "      <td>1.810880e-02</td>\n",
       "      <td>6.548556e-02</td>\n",
       "      <td>1.798463e-01</td>\n",
       "      <td>-1.984653e-02</td>\n",
       "      <td>-5.433583e-02</td>\n",
       "      <td>-2.741871e-01</td>\n",
       "      <td>4.010308e-02</td>\n",
       "      <td>2.235804e-02</td>\n",
       "      <td>-5.142873e-02</td>\n",
       "      <td>...</td>\n",
       "      <td>-2.945017e-02</td>\n",
       "      <td>6.781943e-03</td>\n",
       "      <td>-1.119293e-02</td>\n",
       "      <td>4.097606e-02</td>\n",
       "      <td>1.659350e-02</td>\n",
       "      <td>-5.213911e-02</td>\n",
       "      <td>1.342146e-03</td>\n",
       "      <td>1.124383e-02</td>\n",
       "      <td>22.000000</td>\n",
       "      <td>0.000000</td>\n",
       "    </tr>\n",
       "    <tr>\n",
       "      <th>75%</th>\n",
       "      <td>139320.500000</td>\n",
       "      <td>1.315642e+00</td>\n",
       "      <td>8.037239e-01</td>\n",
       "      <td>1.027196e+00</td>\n",
       "      <td>7.433413e-01</td>\n",
       "      <td>6.119264e-01</td>\n",
       "      <td>3.985649e-01</td>\n",
       "      <td>5.704361e-01</td>\n",
       "      <td>3.273459e-01</td>\n",
       "      <td>5.971390e-01</td>\n",
       "      <td>...</td>\n",
       "      <td>1.863772e-01</td>\n",
       "      <td>5.285536e-01</td>\n",
       "      <td>1.476421e-01</td>\n",
       "      <td>4.395266e-01</td>\n",
       "      <td>3.507156e-01</td>\n",
       "      <td>2.409522e-01</td>\n",
       "      <td>9.104512e-02</td>\n",
       "      <td>7.827995e-02</td>\n",
       "      <td>77.165000</td>\n",
       "      <td>0.000000</td>\n",
       "    </tr>\n",
       "    <tr>\n",
       "      <th>max</th>\n",
       "      <td>172792.000000</td>\n",
       "      <td>2.454930e+00</td>\n",
       "      <td>2.205773e+01</td>\n",
       "      <td>9.382558e+00</td>\n",
       "      <td>1.687534e+01</td>\n",
       "      <td>3.480167e+01</td>\n",
       "      <td>7.330163e+01</td>\n",
       "      <td>1.205895e+02</td>\n",
       "      <td>2.000721e+01</td>\n",
       "      <td>1.559499e+01</td>\n",
       "      <td>...</td>\n",
       "      <td>2.720284e+01</td>\n",
       "      <td>1.050309e+01</td>\n",
       "      <td>2.252841e+01</td>\n",
       "      <td>4.584549e+00</td>\n",
       "      <td>7.519589e+00</td>\n",
       "      <td>3.517346e+00</td>\n",
       "      <td>3.161220e+01</td>\n",
       "      <td>3.384781e+01</td>\n",
       "      <td>25691.160000</td>\n",
       "      <td>1.000000</td>\n",
       "    </tr>\n",
       "  </tbody>\n",
       "</table>\n",
       "<p>8 rows × 31 columns</p>\n",
       "</div>"
      ],
      "text/plain": [
       "                time            v1            v2            v3            v4  \\\n",
       "count  284807.000000  2.848070e+05  2.848070e+05  2.848070e+05  2.848070e+05   \n",
       "mean    94813.859575  1.168375e-15  3.416908e-16 -1.379537e-15  2.074095e-15   \n",
       "std     47488.145955  1.958696e+00  1.651309e+00  1.516255e+00  1.415869e+00   \n",
       "min         0.000000 -5.640751e+01 -7.271573e+01 -4.832559e+01 -5.683171e+00   \n",
       "25%     54201.500000 -9.203734e-01 -5.985499e-01 -8.903648e-01 -8.486401e-01   \n",
       "50%     84692.000000  1.810880e-02  6.548556e-02  1.798463e-01 -1.984653e-02   \n",
       "75%    139320.500000  1.315642e+00  8.037239e-01  1.027196e+00  7.433413e-01   \n",
       "max    172792.000000  2.454930e+00  2.205773e+01  9.382558e+00  1.687534e+01   \n",
       "\n",
       "                 v5            v6            v7            v8            v9  \\\n",
       "count  2.848070e+05  2.848070e+05  2.848070e+05  2.848070e+05  2.848070e+05   \n",
       "mean   9.604066e-16  1.487313e-15 -5.556467e-16  1.213481e-16 -2.406331e-15   \n",
       "std    1.380247e+00  1.332271e+00  1.237094e+00  1.194353e+00  1.098632e+00   \n",
       "min   -1.137433e+02 -2.616051e+01 -4.355724e+01 -7.321672e+01 -1.343407e+01   \n",
       "25%   -6.915971e-01 -7.682956e-01 -5.540759e-01 -2.086297e-01 -6.430976e-01   \n",
       "50%   -5.433583e-02 -2.741871e-01  4.010308e-02  2.235804e-02 -5.142873e-02   \n",
       "75%    6.119264e-01  3.985649e-01  5.704361e-01  3.273459e-01  5.971390e-01   \n",
       "max    3.480167e+01  7.330163e+01  1.205895e+02  2.000721e+01  1.559499e+01   \n",
       "\n",
       "       ...           v21           v22           v23           v24  \\\n",
       "count  ...  2.848070e+05  2.848070e+05  2.848070e+05  2.848070e+05   \n",
       "mean   ...  1.654067e-16 -3.568593e-16  2.578648e-16  4.473266e-15   \n",
       "std    ...  7.345240e-01  7.257016e-01  6.244603e-01  6.056471e-01   \n",
       "min    ... -3.483038e+01 -1.093314e+01 -4.480774e+01 -2.836627e+00   \n",
       "25%    ... -2.283949e-01 -5.423504e-01 -1.618463e-01 -3.545861e-01   \n",
       "50%    ... -2.945017e-02  6.781943e-03 -1.119293e-02  4.097606e-02   \n",
       "75%    ...  1.863772e-01  5.285536e-01  1.476421e-01  4.395266e-01   \n",
       "max    ...  2.720284e+01  1.050309e+01  2.252841e+01  4.584549e+00   \n",
       "\n",
       "                v25           v26           v27           v28         amount  \\\n",
       "count  2.848070e+05  2.848070e+05  2.848070e+05  2.848070e+05  284807.000000   \n",
       "mean   5.340915e-16  1.683437e-15 -3.660091e-16 -1.227390e-16      88.349619   \n",
       "std    5.212781e-01  4.822270e-01  4.036325e-01  3.300833e-01     250.120109   \n",
       "min   -1.029540e+01 -2.604551e+00 -2.256568e+01 -1.543008e+01       0.000000   \n",
       "25%   -3.171451e-01 -3.269839e-01 -7.083953e-02 -5.295979e-02       5.600000   \n",
       "50%    1.659350e-02 -5.213911e-02  1.342146e-03  1.124383e-02      22.000000   \n",
       "75%    3.507156e-01  2.409522e-01  9.104512e-02  7.827995e-02      77.165000   \n",
       "max    7.519589e+00  3.517346e+00  3.161220e+01  3.384781e+01   25691.160000   \n",
       "\n",
       "               legit  \n",
       "count  284807.000000  \n",
       "mean        0.001727  \n",
       "std         0.041527  \n",
       "min         0.000000  \n",
       "25%         0.000000  \n",
       "50%         0.000000  \n",
       "75%         0.000000  \n",
       "max         1.000000  \n",
       "\n",
       "[8 rows x 31 columns]"
      ]
     },
     "execution_count": 29,
     "metadata": {},
     "output_type": "execute_result"
    }
   ],
   "source": [
    "transactions.describe()"
   ]
  },
  {
   "cell_type": "code",
   "execution_count": 30,
   "metadata": {},
   "outputs": [
    {
     "data": {
      "text/plain": [
       "Index(['time', 'v1', 'v2', 'v3', 'v4', 'v5', 'v6', 'v7', 'v8', 'v9', 'v10',\n",
       "       'v11', 'v12', 'v13', 'v14', 'v15', 'v16', 'v17', 'v18', 'v19', 'v20',\n",
       "       'v21', 'v22', 'v23', 'v24', 'v25', 'v26', 'v27', 'v28', 'amount',\n",
       "       'legit'],\n",
       "      dtype='object')"
      ]
     },
     "execution_count": 30,
     "metadata": {},
     "output_type": "execute_result"
    }
   ],
   "source": [
    "transactions.columns"
   ]
  },
  {
   "cell_type": "markdown",
   "metadata": {},
   "source": [
    "La propriété `fraudulent` permet de distinguer les transactions frauduleuses de celles qui sont légitimes :\n",
    "* Elles sont **légitimes** si la propriété `legit` est vraie (égale à 1)\n",
    "* Elles sont **frauduleuses** si la propriété `legit` est fausse (égale à 0)\n",
    "\n",
    "Dans le jeu de données proposé, combien de chaque ?\n",
    "\n",
    "Vous pouvez utiliser la fonction `query()`, par exemple si l'on souhaitait récupérer les transactions dont les montants sont supérieurs à 10 :\n",
    "\n",
    "```python\n",
    "result = transactions.query('amount > 10')\n",
    "```\n",
    "\n",
    "Pour compter un nombre de lignes d'un DataFrame, vous pouvez utiliser la fonction `count()` :\n",
    "\n",
    "```python\n",
    "count = transactions.count()\n",
    "```"
   ]
  },
  {
   "cell_type": "code",
   "execution_count": 31,
   "metadata": {},
   "outputs": [
    {
     "name": "stdout",
     "output_type": "stream",
     "text": [
      "Transactions valides : 284315\n",
      "Transactions frauduleuses : 492\n"
     ]
    }
   ],
   "source": [
    "legit_transactions = transactions.query('legit == 0')\n",
    "fraudulent_transactions = transactions.query('legit == 1')\n",
    "\n",
    "print('Transactions valides : '+ str(legit_transactions.v1.count()))\n",
    "print('Transactions frauduleuses : '+ str(fraudulent_transactions.v1.count()))"
   ]
  },
  {
   "cell_type": "markdown",
   "metadata": {},
   "source": [
    "Que pensez-vous de la proportion des transactions quand il s'agit de savoir si elles sont légitimes ou frauduleuses et quel va être l'impact sur la qualité de l'entraînement d'un modèle de machine learning ?\n",
    "\n",
    "> Protip: Googlez l'expression \"umbalanced dataset for fraud detection\""
   ]
  },
  {
   "cell_type": "markdown",
   "metadata": {},
   "source": [
    "Ecrivez votre réponse ici :\n",
    "\n",
    "..."
   ]
  },
  {
   "cell_type": "markdown",
   "metadata": {},
   "source": [
    "## Nettoyage (statistique) des données\n",
    "\n",
    "Les modèles de Machine Learning sont incompatibles avec des valeurs nulles ou qui ne sont pas numériques.\n",
    "\n",
    "Pour évaluer le nombre de valeurs nulles par colonne, vous pouvez utiliser la fonction `isnull()` suivi de la fonction `sum()`.\n",
    "\n",
    "Evaluez le nombre de valeurs nulles dans l'échantillon :"
   ]
  },
  {
   "cell_type": "code",
   "execution_count": 32,
   "metadata": {},
   "outputs": [
    {
     "data": {
      "text/plain": [
       "time      0\n",
       "v1        0\n",
       "v2        0\n",
       "v3        0\n",
       "v4        0\n",
       "v5        0\n",
       "v6        0\n",
       "v7        0\n",
       "v8        0\n",
       "v9        0\n",
       "v10       0\n",
       "v11       0\n",
       "v12       0\n",
       "v13       0\n",
       "v14       0\n",
       "v15       0\n",
       "v16       0\n",
       "v17       0\n",
       "v18       0\n",
       "v19       0\n",
       "v20       0\n",
       "v21       0\n",
       "v22       0\n",
       "v23       0\n",
       "v24       0\n",
       "v25       0\n",
       "v26       0\n",
       "v27       0\n",
       "v28       0\n",
       "amount    0\n",
       "legit     0\n",
       "dtype: int64"
      ]
     },
     "execution_count": 32,
     "metadata": {},
     "output_type": "execute_result"
    }
   ],
   "source": [
    "transactions.isnull().sum()"
   ]
  },
  {
   "cell_type": "markdown",
   "metadata": {},
   "source": [
    "Qu'en pensez-vous ? Y-a-t-il une action de votre part à effectuer pour nettoyer le jeu de données ?\n",
    "\n",
    "Et si la réponse est \"oui\", que feriez-vous ?\n",
    "Et si la réponse est \"non\", expliquez pourquoi."
   ]
  },
  {
   "cell_type": "markdown",
   "metadata": {},
   "source": [
    "Ecrivez votre réponse ici :\n",
    "\n",
    "..."
   ]
  },
  {
   "cell_type": "markdown",
   "metadata": {},
   "source": [
    "### **Sampling du jeu de données**\n",
    "\n",
    "Vous cherchez à construire un modèle pour détecter les fraudes, mais comme nous l'avons vu précédemment nous avons à notre disposition **énormément** plus de données pour la détection de transactions valides que pour la détection de fraudes invalides.\n",
    "\n",
    "En Machine Learning, il est commun d'adapter son jeu de données quand il est déséquilibré de sorte à présenter au modèle plus d'informations utiles.\n",
    "\n",
    "Pour cela, nous allons construire équilibré. Puisque nous n'avez que XX transactions frauduleuses, vous devez extraire un échantillon de même taille ou équivalent de transactions valides.\n",
    "\n",
    "Il existe la fonction `sample()` qui permet de récupérer l'échantillon de taille voulu. Par exemple :\n",
    "\n",
    "```python\n",
    "fraudulent_transactions_sample = fraudulent_transactions.sample(n=492)\n",
    "```\n",
    "\n",
    "Ensuite, pour assembler les deux jeux de données ('frauduleux','valide') en un seul `DataFrame` vous pouvez utiliser la fonction `concat()` :\n",
    "\n",
    "```python\n",
    "transactions_v2 = pd.concat([fraudulent_sample, legit_sample], axis='rows')\n",
    "```\n",
    "\n",
    "> Pour vérifier la taille de l'échantillon, n'oubliez pas l'argument `shape` disponible sur un `DataFrame`."
   ]
  },
  {
   "cell_type": "code",
   "execution_count": 33,
   "metadata": {},
   "outputs": [
    {
     "data": {
      "text/html": [
       "<div>\n",
       "<style scoped>\n",
       "    .dataframe tbody tr th:only-of-type {\n",
       "        vertical-align: middle;\n",
       "    }\n",
       "\n",
       "    .dataframe tbody tr th {\n",
       "        vertical-align: top;\n",
       "    }\n",
       "\n",
       "    .dataframe thead th {\n",
       "        text-align: right;\n",
       "    }\n",
       "</style>\n",
       "<table border=\"1\" class=\"dataframe\">\n",
       "  <thead>\n",
       "    <tr style=\"text-align: right;\">\n",
       "      <th></th>\n",
       "      <th>time</th>\n",
       "      <th>v1</th>\n",
       "      <th>v2</th>\n",
       "      <th>v3</th>\n",
       "      <th>v4</th>\n",
       "      <th>v5</th>\n",
       "      <th>v6</th>\n",
       "      <th>v7</th>\n",
       "      <th>v8</th>\n",
       "      <th>v9</th>\n",
       "      <th>...</th>\n",
       "      <th>v21</th>\n",
       "      <th>v22</th>\n",
       "      <th>v23</th>\n",
       "      <th>v24</th>\n",
       "      <th>v25</th>\n",
       "      <th>v26</th>\n",
       "      <th>v27</th>\n",
       "      <th>v28</th>\n",
       "      <th>amount</th>\n",
       "      <th>legit</th>\n",
       "    </tr>\n",
       "  </thead>\n",
       "  <tbody>\n",
       "    <tr>\n",
       "      <th>160184</th>\n",
       "      <td>113154.0</td>\n",
       "      <td>-1.383524</td>\n",
       "      <td>-0.664584</td>\n",
       "      <td>1.842021</td>\n",
       "      <td>-3.826554</td>\n",
       "      <td>0.067715</td>\n",
       "      <td>-0.389561</td>\n",
       "      <td>0.209225</td>\n",
       "      <td>0.290994</td>\n",
       "      <td>1.573235</td>\n",
       "      <td>...</td>\n",
       "      <td>0.215278</td>\n",
       "      <td>0.355360</td>\n",
       "      <td>-0.106182</td>\n",
       "      <td>0.684735</td>\n",
       "      <td>0.770016</td>\n",
       "      <td>-1.046582</td>\n",
       "      <td>0.033594</td>\n",
       "      <td>0.076237</td>\n",
       "      <td>99.99</td>\n",
       "      <td>0</td>\n",
       "    </tr>\n",
       "    <tr>\n",
       "      <th>278067</th>\n",
       "      <td>168021.0</td>\n",
       "      <td>-1.475364</td>\n",
       "      <td>2.134763</td>\n",
       "      <td>-1.545804</td>\n",
       "      <td>-1.992495</td>\n",
       "      <td>1.777199</td>\n",
       "      <td>-0.554459</td>\n",
       "      <td>1.994412</td>\n",
       "      <td>-0.702662</td>\n",
       "      <td>1.483375</td>\n",
       "      <td>...</td>\n",
       "      <td>-0.151773</td>\n",
       "      <td>0.685090</td>\n",
       "      <td>-0.323574</td>\n",
       "      <td>-0.121570</td>\n",
       "      <td>0.069390</td>\n",
       "      <td>0.042531</td>\n",
       "      <td>0.729530</td>\n",
       "      <td>0.066146</td>\n",
       "      <td>0.92</td>\n",
       "      <td>0</td>\n",
       "    </tr>\n",
       "    <tr>\n",
       "      <th>29857</th>\n",
       "      <td>35662.0</td>\n",
       "      <td>1.455619</td>\n",
       "      <td>-0.535345</td>\n",
       "      <td>-0.004334</td>\n",
       "      <td>-1.010874</td>\n",
       "      <td>-0.515880</td>\n",
       "      <td>-0.158169</td>\n",
       "      <td>-0.661282</td>\n",
       "      <td>0.006399</td>\n",
       "      <td>-0.915820</td>\n",
       "      <td>...</td>\n",
       "      <td>0.120177</td>\n",
       "      <td>0.238375</td>\n",
       "      <td>-0.177162</td>\n",
       "      <td>-0.702151</td>\n",
       "      <td>0.597267</td>\n",
       "      <td>-0.158261</td>\n",
       "      <td>-0.002469</td>\n",
       "      <td>-0.006899</td>\n",
       "      <td>5.00</td>\n",
       "      <td>0</td>\n",
       "    </tr>\n",
       "    <tr>\n",
       "      <th>154995</th>\n",
       "      <td>103963.0</td>\n",
       "      <td>2.035557</td>\n",
       "      <td>0.089604</td>\n",
       "      <td>-1.299490</td>\n",
       "      <td>0.573711</td>\n",
       "      <td>0.079339</td>\n",
       "      <td>-1.460485</td>\n",
       "      <td>0.339039</td>\n",
       "      <td>-0.485598</td>\n",
       "      <td>1.832850</td>\n",
       "      <td>...</td>\n",
       "      <td>-0.281727</td>\n",
       "      <td>-0.560979</td>\n",
       "      <td>0.229239</td>\n",
       "      <td>-0.060165</td>\n",
       "      <td>-0.061213</td>\n",
       "      <td>-0.532985</td>\n",
       "      <td>-0.064942</td>\n",
       "      <td>-0.058948</td>\n",
       "      <td>24.99</td>\n",
       "      <td>0</td>\n",
       "    </tr>\n",
       "    <tr>\n",
       "      <th>105977</th>\n",
       "      <td>69767.0</td>\n",
       "      <td>1.076925</td>\n",
       "      <td>0.028522</td>\n",
       "      <td>0.469944</td>\n",
       "      <td>1.348468</td>\n",
       "      <td>-0.307769</td>\n",
       "      <td>0.006279</td>\n",
       "      <td>-0.089503</td>\n",
       "      <td>0.181548</td>\n",
       "      <td>0.192852</td>\n",
       "      <td>...</td>\n",
       "      <td>-0.040893</td>\n",
       "      <td>-0.010614</td>\n",
       "      <td>-0.048826</td>\n",
       "      <td>0.213647</td>\n",
       "      <td>0.560716</td>\n",
       "      <td>-0.340581</td>\n",
       "      <td>0.025754</td>\n",
       "      <td>0.008091</td>\n",
       "      <td>23.81</td>\n",
       "      <td>0</td>\n",
       "    </tr>\n",
       "  </tbody>\n",
       "</table>\n",
       "<p>5 rows × 31 columns</p>\n",
       "</div>"
      ],
      "text/plain": [
       "            time        v1        v2        v3        v4        v5        v6  \\\n",
       "160184  113154.0 -1.383524 -0.664584  1.842021 -3.826554  0.067715 -0.389561   \n",
       "278067  168021.0 -1.475364  2.134763 -1.545804 -1.992495  1.777199 -0.554459   \n",
       "29857    35662.0  1.455619 -0.535345 -0.004334 -1.010874 -0.515880 -0.158169   \n",
       "154995  103963.0  2.035557  0.089604 -1.299490  0.573711  0.079339 -1.460485   \n",
       "105977   69767.0  1.076925  0.028522  0.469944  1.348468 -0.307769  0.006279   \n",
       "\n",
       "              v7        v8        v9  ...       v21       v22       v23  \\\n",
       "160184  0.209225  0.290994  1.573235  ...  0.215278  0.355360 -0.106182   \n",
       "278067  1.994412 -0.702662  1.483375  ... -0.151773  0.685090 -0.323574   \n",
       "29857  -0.661282  0.006399 -0.915820  ...  0.120177  0.238375 -0.177162   \n",
       "154995  0.339039 -0.485598  1.832850  ... -0.281727 -0.560979  0.229239   \n",
       "105977 -0.089503  0.181548  0.192852  ... -0.040893 -0.010614 -0.048826   \n",
       "\n",
       "             v24       v25       v26       v27       v28  amount  legit  \n",
       "160184  0.684735  0.770016 -1.046582  0.033594  0.076237   99.99      0  \n",
       "278067 -0.121570  0.069390  0.042531  0.729530  0.066146    0.92      0  \n",
       "29857  -0.702151  0.597267 -0.158261 -0.002469 -0.006899    5.00      0  \n",
       "154995 -0.060165 -0.061213 -0.532985 -0.064942 -0.058948   24.99      0  \n",
       "105977  0.213647  0.560716 -0.340581  0.025754  0.008091   23.81      0  \n",
       "\n",
       "[5 rows x 31 columns]"
      ]
     },
     "execution_count": 33,
     "metadata": {},
     "output_type": "execute_result"
    }
   ],
   "source": [
    "legit_transactions_sample = legit_transactions.sample(492)\n",
    "\n",
    "transactions_dataset = pd.concat([legit_transactions_sample, fraudulent_transactions])\n",
    "\n",
    "transactions_dataset.head()"
   ]
  },
  {
   "cell_type": "markdown",
   "metadata": {},
   "source": [
    "# Choix du/des algorithme(s) de Machine Learning\n",
    "\n",
    "Vous êtes face à un problème de classification à 2 classes : soit une transaction est frauduleuse, soit elle ne l'est pas.\n",
    "\n",
    "Prenez le temps de consulter [cette page Wikipédia](https://fr.wikipedia.org/wiki/Cat%C3%A9gorie:Algorithme_de_classification) : quel(s) algorithme(s) vous semblent les plus adaptés pour l'entraînement d'un modèle de Machine Learning dans le cadre de la détection de fraude ?"
   ]
  },
  {
   "cell_type": "markdown",
   "metadata": {},
   "source": [
    "Votre réponse ici :\n"
   ]
  },
  {
   "cell_type": "markdown",
   "metadata": {},
   "source": [
    "> Pour la suite, nous allons utiliser 1 algorithme très simple à mettre en place : K-Nearest Neighbours"
   ]
  },
  {
   "cell_type": "markdown",
   "metadata": {},
   "source": [
    "### L'algorithme de classification K-NN\n",
    "\n",
    "Tout d'abord, prenez le temps de vous renseigner sur le [fonctionnement de l'algorithme K-NN](https://openclassrooms.com/fr/courses/4011851-initiez-vous-au-machine-learning/4022441-entrainez-votre-premier-k-nn).\n",
    "\n",
    "Ensuite, vous allez implémenter l'algorithme à l'aide de la librairie [scikit-learn](https://scikit-learn.org/stable/).\n",
    "\n",
    "> Rassurez-vous une bonne partie du code vous est fourni."
   ]
  },
  {
   "cell_type": "code",
   "execution_count": 34,
   "metadata": {},
   "outputs": [],
   "source": [
    "from sklearn.model_selection import train_test_split\n",
    "\n",
    "variables = transactions_dataset.drop(['time', 'legit'], axis='columns')\n",
    "legit_or_fraudulent = transactions_dataset['legit']\n",
    "\n",
    "#\n",
    "# Préparation des jeux de données de test et d'entraînement\n",
    "#\n",
    "\n",
    "X_train, X_test, Y_train, Y_test = train_test_split(variables.values, legit_or_fraudulent.values, train_size=0.7, random_state=42)"
   ]
  },
  {
   "cell_type": "code",
   "execution_count": 35,
   "metadata": {},
   "outputs": [
    {
     "data": {
      "text/plain": [
       "KNeighborsClassifier()"
      ]
     },
     "execution_count": 35,
     "metadata": {},
     "output_type": "execute_result"
    }
   ],
   "source": [
    "from sklearn.neighbors import KNeighborsClassifier\n",
    "\n",
    "#\n",
    "# Création de notre Classifier\n",
    "#\n",
    "knn=KNeighborsClassifier()\n",
    "\n",
    "#\n",
    "# Entraînement du modèle à l'aide des données d'entraînement\n",
    "#\n",
    "knn.fit(X_train, Y_train)"
   ]
  },
  {
   "cell_type": "markdown",
   "metadata": {},
   "source": [
    "Notre modèle est maintenant entraîné à l'aide du jeu de données à l'exclusion de `time` et de `legit`.\n",
    "\n",
    "Nous allons donc maintenant essayer de prédire la valeur de la colonne `legit` que nous connaissons dans nos données de test en retirant cette colonne et en regardant comment se comporte notre modèle entraîné.\n",
    "\n",
    "> Evidemment pour la colonne \"legit\", puisque c'est ce que vous essayez de prédire 😉"
   ]
  },
  {
   "cell_type": "code",
   "execution_count": 36,
   "metadata": {},
   "outputs": [
    {
     "name": "stdout",
     "output_type": "stream",
     "text": [
      "[1 0 1 0 0 1 1 0 1 0 0 1 0 0 0 0 0 1 1 0 0 0 1 0 1 0 0 0 0 0 0 0 0 0 1 0 0\n",
      " 0 0 0 0 0 1 0 0 0 0 0 0 1 1 0 1 1 1 1 1 0 1 1 0 0 0 0 0 0 1 0 0 1 0 0 0 1\n",
      " 1 0 1 0 0 0 1 1 1 0 0 0 0 1 1 1 0 0 1 1 1 1 1 1 1 1 1 1 0 1 1 1 0 1 1 1 1\n",
      " 0 1 0 1 1 0 1 0 1 0 1 0 1 1 1 1 1 0 1 1 1 0 0 0 0 0 0 1 1 1 0 0 0 1 0 1 0\n",
      " 0 0 0 0 0 0 0 0 1 0 1 0 0 0 0 1 1 1 1 1 0 0 1 1 1 1 0 0 0 0 1 0 1 1 0 1 0\n",
      " 0 0 1 1 1 0 1 0 1 1 0 1 1 1 0 1 1 0 1 0 1 0 0 0 0 0 1 1 0 1 0 0 0 0 1 1 1\n",
      " 0 0 1 0 1 1 0 0 0 0 0 0 1 0 0 0 1 1 0 0 1 0 1 1 1 1 0 1 1 0 0 1 1 1 0 1 0\n",
      " 0 0 1 1 0 1 0 0 0 1 0 0 0 1 1 1 0 1 1 1 0 1 0 0 1 1 0 0 1 0 1 0 1 1 0 1 1]\n"
     ]
    }
   ],
   "source": [
    "#\n",
    "# Et hop ! On lance les prédictions\n",
    "#\n",
    "knn_predictions = knn.predict(X_test)\n",
    "\n",
    "# Décommentez cette ligne pour voir vos prédictions \n",
    "#print(knn_predictions)"
   ]
  },
  {
   "cell_type": "markdown",
   "metadata": {},
   "source": [
    "## Evaluations des résultats\n",
    "\n",
    "Il y a de nombreuses façons d'évaluer la qualité des résultats.\n",
    "Je vous propose d'explorer ensemble les différentes méthodes en établissant une matrice de confusion à l'aide de scikit-learn.\n",
    "\n",
    "Pour commencer, prenez le temps de lire cet article qui vulgarise les principaux concepts liés à la lecture et l'évaluation d'une [matrice de confusion](https://datascientest.com/danielcomment-lire-et-exploiter-une-matrice-de-confusion).\n",
    "\n",
    "A votre avis, qu'est-ce qui est le plus important pour la __qualité__ de notre modèle : détecter toutes les fraudes quite à se tromper ou au contraire laisser passer quelques transactions frauduleuses ?"
   ]
  },
  {
   "cell_type": "markdown",
   "metadata": {},
   "source": [
    "Votre réponse ici :\n",
    "\n",
    "..."
   ]
  },
  {
   "cell_type": "markdown",
   "metadata": {},
   "source": [
    "Pour construire la matrice de confusion de votre modèle, vous allez utiliser la fonction `confusion_matrix` du module `metrics` de `sklearn`.\n",
    "\n",
    "Cette fonction accepte 2 arguments :\n",
    "\n",
    "* D'abord les valeurs réelles, ici ce serait `Y_test`;\n",
    "* Puis les valeurs prédites, ici `knn_predictions`;\n",
    "\n",
    "\n",
    "> Pour rappel !  Si la valeur de `legit` vaut 1 alors, la transaction est frauduleuse."
   ]
  },
  {
   "cell_type": "code",
   "execution_count": 37,
   "metadata": {},
   "outputs": [
    {
     "name": "stdout",
     "output_type": "stream",
     "text": [
      "[[140  10]\n",
      " [ 18 128]]\n"
     ]
    }
   ],
   "source": [
    "import matplotlib.pyplot as plt\n",
    "from sklearn.metrics import confusion_matrix, ConfusionMatrixDisplay\n",
    "\n",
    "cm = confusion_matrix(Y_test, knn_predictions)\n",
    "print(cm)"
   ]
  },
  {
   "cell_type": "markdown",
   "metadata": {},
   "source": [
    "Vous avez affiché une matrice mais elle est difficile à interpréter, n'est-ce pas ?\n",
    "\n",
    "Prenez le temps de lire la page de [documentation](https://scikit-learn.org/stable/modules/generated/sklearn.metrics.ConfusionMatrixDisplay.html#sklearn.metrics.ConfusionMatrixDisplay.from_predictions) et surtout les exemples pour afficher une matrice de confusion exploitable.\n",
    "\n",
    "En bref, vous devrez importer l'objet `ConfusionMatrixDisplay` du module `metrics` de `scikit-learn` et le module `pyplot` de la librairie `matplotlib`."
   ]
  },
  {
   "cell_type": "code",
   "execution_count": 38,
   "metadata": {},
   "outputs": [
    {
     "data": {
      "image/png": "[encoded data removed]",
      "text/plain": [
       "<Figure size 432x288 with 2 Axes>"
      ]
     },
     "metadata": {
      "needs_background": "light"
     },
     "output_type": "display_data"
    }
   ],
   "source": [
    "from sklearn.metrics import ConfusionMatrixDisplay\n",
    "\n",
    "disp = ConfusionMatrixDisplay(confusion_matrix=cm, display_labels=['legit', 'fraudulent'])\n",
    "disp.plot()\n",
    "plt.show();"
   ]
  },
  {
   "cell_type": "markdown",
   "metadata": {},
   "source": [
    "A partir de cette matrice, combien comptez-vous de :\n",
    "\n",
    "- faux positifs ? 18\n",
    "- faux négatifs ? 4\n",
    "- vrais positifs ? 133\n",
    "- vrais négatifs ? 141"
   ]
  },
  {
   "cell_type": "markdown",
   "metadata": {},
   "source": [
    "Que pensez-vous de ces résultats ?"
   ]
  },
  {
   "cell_type": "markdown",
   "metadata": {},
   "source": [
    "Votre réponse ici :\n",
    "\n",
    "..."
   ]
  },
  {
   "cell_type": "markdown",
   "metadata": {},
   "source": [
    "Pour construire la matrice de confusion de votre modèle, vous allez utiliser la fonction `classification_report` du module `metrics` de `sklearn`.\n",
    "\n",
    "Cette fonction accepte 2 arguments :\n",
    "\n",
    "* D'abord les valeurs réelles, ici ce serait `Y_test`;\n",
    "* Puis les valeurs prédites, ici `knn_predictions`;\n",
    "\n",
    "\n",
    "> Pour rappel !  Si la valeur de `legit` vaut 1 alors, la transaction est frauduleuse."
   ]
  },
  {
   "cell_type": "code",
   "execution_count": 39,
   "metadata": {},
   "outputs": [
    {
     "name": "stdout",
     "output_type": "stream",
     "text": [
      "              precision    recall  f1-score   support\n",
      "\n",
      "           0       0.89      0.93      0.91       150\n",
      "           1       0.93      0.88      0.90       146\n",
      "\n",
      "    accuracy                           0.91       296\n",
      "   macro avg       0.91      0.91      0.91       296\n",
      "weighted avg       0.91      0.91      0.91       296\n",
      "\n"
     ]
    }
   ],
   "source": [
    "from sklearn.metrics import classification_report\n",
    "\n",
    "print(classification_report(Y_test, knn_predictions))"
   ]
  },
  {
   "cell_type": "markdown",
   "metadata": {},
   "source": [
    "## Optimisation du modèle de Machine Learning\n",
    "\n",
    "Vous pourriez être satisfait des résultats ... ou pas ?\n",
    "\n",
    "Pouvez-vous améliorer la performance de votre modèle ?\n",
    "\n",
    "Je vous propose dans cette partie et en semi-autonomie d'expérimenter les différentes options qui se présentent à vous pour essayer d'améliorer la performance."
   ]
  },
  {
   "cell_type": "markdown",
   "metadata": {},
   "source": [
    "### **Les (hyper) paramètres de l'algorithme K-NN**\n",
    "\n",
    "Si chaque algorithme dans scikit-learn fonctionne globalement de la même façon (fit()/predict()), ils disposent chacun de nombreux paramètres qu'il vous appartient de customiser pour évaluer l'impact sur les performances de votre modèle.\n",
    "\n",
    "Par exemple, le paramètre principal de l'algorithme [K-NN](https://scikit-learn.org/stable/modules/generated/sklearn.neighbors.KNeighborsClassifier.html) s'appelle `n_neighbors` qui correspond aux nombres de voisins considérer pour regrouper les individus de l'échantillon.\n",
    "\n",
    "La question que vous vous posez probablement à ce stade, c'est probablement celle-ci :\n",
    "\n",
    "> \"D'accord, mais comment je trouve le bon nombre de neighbors ?\"\n",
    "\n",
    "Et bien, vous pourriez évaluer l'erreur test et afficher la performance en fonction du nombre de voisins considérés. Pour effectuer cela, vous pouvez - par exemple - suivre les instructions décrites dans [cet article](https://openclassrooms.com/fr/courses/4011851-initiez-vous-au-machine-learning/4022441-entrainez-votre-premier-k-nn#/id/r-4141748)."
   ]
  },
  {
   "cell_type": "code",
   "execution_count": 40,
   "metadata": {},
   "outputs": [
    {
     "data": {
      "image/png": "[encoded data removed]",
      "text/plain": [
       "<Figure size 432x288 with 1 Axes>"
      ]
     },
     "metadata": {
      "needs_background": "light"
     },
     "output_type": "display_data"
    }
   ],
   "source": [
    "errors = []\n",
    "for n_neighbors in range(2,15):\n",
    "    knn = KNeighborsClassifier(n_neighbors)\n",
    "    errors.append(100*(1 - knn.fit(X_train, Y_train).score(X_test, Y_test)))\n",
    "\n",
    "# Affichage des erreurs en fonction du nombre de voisins\n",
    "plt.plot(range(2,15), errors, 'o-')\n",
    "plt.xlabel('Nombre de voisins (n_neighbors)')\n",
    "plt.ylabel('Pourcentage d\\'erreur (%)')\n",
    "plt.title('Evaluation du modèle K-NN avec notre modèle')\n",
    "plt.show();"
   ]
  },
  {
   "cell_type": "markdown",
   "metadata": {},
   "source": [
    "Quelle est la valeur optimale pour le paramètre `n_neighbors` au regard de votre évaluation de l'erreur test ?\n",
    "\n",
    "Quelle est la valeur par défaut de ce paramètre ?"
   ]
  },
  {
   "cell_type": "markdown",
   "metadata": {},
   "source": [
    "Ajoutez votre réponse ici :\n",
    "\n",
    "..."
   ]
  },
  {
   "cell_type": "markdown",
   "metadata": {},
   "source": [
    "### **Optimisation des paramètres** d'un algorithme\n",
    "\n",
    "A ce stade, ce devrait être la troisième fois que vous consultez la documentation de [KNeighborsClassifier](https://scikit-learn.org/stable/modules/generated/sklearn.neighbors.KNeighborsClassifier.html).\n",
    "\n",
    "Au delà du paramètre `n_neighbors`, ce Classifier dispose de nombreux autres paramètres qui peuvent avoir un impact sur la performance de votre modèle.\n",
    "\n",
    "Pour obtenir la liste des paramètres les plus optimisés, vous pourriez établir la liste - ou plutôt la grille - des possibilités jusqu'à obtenir à force de tests les meilleurs.\n",
    "\n",
    "Heureusement pour vous, Scikit-learn fournit une classe appelée [GridSearchCV](https://scikit-learn.org/stable/modules/generated/sklearn.model_selection.GridSearchCV.html?highlight=gridsearchcv#sklearn.model_selection.GridSearchCV).\n",
    "\n",
    "Pour cela, vous devez import la classe `GridSearchCV` du module `modele_selection` de la librairie Scikit-learn :\n",
    "\n",
    "```python\n",
    "from sklearn.model_selection import GridSearchCV\n",
    "\n",
    "# La grille correspond aux paramètres et aux valeurs possibles\n",
    "grid_params = {\n",
    "    'n_neighbors': [1,2,3,4,5,6,7,8,9,10],\n",
    "    'weights': ['uniform', 'distance'],\n",
    "    'metric': ['minkowski', 'euclidean', 'manhattan']\n",
    "}\n",
    "\n",
    "gs = GridSearchCV(\n",
    "    KNeighborsClassifier(),\n",
    "    grid_params\n",
    ")\n",
    "\n",
    "gs_results = gs.fit(X_train, Y_train)\n",
    "\n",
    "# Liste des meilleurs paramètres\n",
    "print(gs_results.best_params_)\n",
    "```\n",
    "\n",
    "Essayez par vous même pour obtenir la liste des meilleurs paramètres, puis ré-évaluez la performance de votre modèle avec un KNeighborsClassifier configuré avec ces paramètres :"
   ]
  },
  {
   "cell_type": "code",
   "execution_count": 41,
   "metadata": {},
   "outputs": [
    {
     "name": "stdout",
     "output_type": "stream",
     "text": [
      "{'metric': 'manhattan', 'n_neighbors': 6, 'weights': 'distance'}\n"
     ]
    }
   ],
   "source": [
    "from sklearn.model_selection import GridSearchCV\n",
    "\n",
    "# La grille correspond aux paramètres et aux valeurs possibles\n",
    "grid_params = {\n",
    "    'n_neighbors': [1,2,3,4,5,6,7,8,9,10],\n",
    "    'weights': ['uniform', 'distance'],\n",
    "    'metric': ['minkowski', 'euclidean', 'manhattan']\n",
    "}\n",
    "\n",
    "gs = GridSearchCV(\n",
    "    KNeighborsClassifier(),\n",
    "    grid_params\n",
    ")\n",
    "\n",
    "gs_results = gs.fit(X_train, Y_train)\n",
    "\n",
    "# Liste des meilleurs paramètres\n",
    "print(gs_results.best_params_)"
   ]
  },
  {
   "cell_type": "code",
   "execution_count": 42,
   "metadata": {},
   "outputs": [
    {
     "name": "stdout",
     "output_type": "stream",
     "text": [
      "              precision    recall  f1-score   support\n",
      "\n",
      "           0       0.89      0.95      0.92       150\n",
      "           1       0.95      0.88      0.91       146\n",
      "\n",
      "    accuracy                           0.92       296\n",
      "   macro avg       0.92      0.92      0.92       296\n",
      "weighted avg       0.92      0.92      0.92       296\n",
      "\n"
     ]
    }
   ],
   "source": [
    "# Création et entraînement du modèle\n",
    "optimized_knn=KNeighborsClassifier(\n",
    "    n_neighbors=gs_results.best_params_['n_neighbors'],\n",
    "    weights=gs_results.best_params_['weights'],\n",
    "    metric=gs_results.best_params_['metric']\n",
    ")\n",
    "\n",
    "optimized_knn.fit(X_train, Y_train)\n",
    "\n",
    "# Prédiction sur les données de test\n",
    "predictions = optimized_knn.predict(X_test)\n",
    "\n",
    "# Résultats\n",
    "print(classification_report(Y_test, predictions))"
   ]
  },
  {
   "cell_type": "markdown",
   "metadata": {},
   "source": [
    "Après application des meilleurs paramètres possibles, est-ce que votre modèle de machine learning est plus performant ?\n",
    "\n",
    "Si oui, à quel point ?"
   ]
  },
  {
   "cell_type": "markdown",
   "metadata": {},
   "source": [
    "Ajoutez votre réponse ici :\n",
    "\n",
    "\n",
    "..."
   ]
  },
  {
   "cell_type": "markdown",
   "metadata": {},
   "source": [
    "### **Transformation des données pour le Machine Learning : Scaling**\n",
    "\n",
    "Une bonne façon d'améliorer les performances d'un modèle est de mieux préparer les données.\n",
    "\n",
    "Dans une première partie, vous aviez équilibré la proportion des transactions valides et frauduleuses.\n",
    "\n",
    "Poursuivez l'analyse des données, par exemple quelles sont les valeurs minimales et maximales de chacune de variables considérées ?"
   ]
  },
  {
   "cell_type": "markdown",
   "metadata": {},
   "source": [
    "Votre réponse ici :\n",
    "\n",
    "..."
   ]
  },
  {
   "cell_type": "markdown",
   "metadata": {},
   "source": [
    "Quand vous avez des variables avec des écarts de valeur extrêmes, ces variables ont un impact plus important sur la qualité de la prédiction du modèle. Pour pallier à ce problème, vous pouvez appliquer une opération de mise à l'échelle de toutes vos données (dit autrement, de \"scaling\").\n",
    "\n",
    "```python\n",
    "from sklearn.preprocessing import StandardScaler\n",
    "scaler = StandardScaler()\n",
    "amount = transactions['amount'].values\n",
    "\n",
    "transactions['amount'] = scaler.fit_transform(amount.reshape(-1,1))\n",
    "print(transactions['amount'])\n",
    "```"
   ]
  },
  {
   "cell_type": "code",
   "execution_count": 43,
   "metadata": {},
   "outputs": [],
   "source": [
    "from sklearn.preprocessing import StandardScaler\n",
    "scaler = StandardScaler()\n",
    "amount = transactions['amount'].values\n",
    "\n",
    "transactions['amount'] = scaler.fit_transform(amount.reshape(-1,1))"
   ]
  },
  {
   "cell_type": "markdown",
   "metadata": {},
   "source": [
    "Maintenant, ré-entraînez à nouveau votre modèle : est-ce que vous notez une amélioration de la performance ?\n",
    "\n",
    "> Attention ! Pensez bien à reconstruire les jeux de données d'entraînement et de test"
   ]
  },
  {
   "cell_type": "code",
   "execution_count": 44,
   "metadata": {},
   "outputs": [
    {
     "name": "stdout",
     "output_type": "stream",
     "text": [
      "              precision    recall  f1-score   support\n",
      "\n",
      "           0       0.89      0.93      0.91       150\n",
      "           1       0.93      0.88      0.90       146\n",
      "\n",
      "    accuracy                           0.91       296\n",
      "   macro avg       0.91      0.91      0.91       296\n",
      "weighted avg       0.91      0.91      0.91       296\n",
      "\n"
     ]
    }
   ],
   "source": [
    "\n",
    "desc_vars = transactions_dataset.drop(['time', 'legit'], axis='columns')\n",
    "detected = transactions_dataset['legit']\n",
    "\n",
    "X_train, X_test, Y_train, Y_test = train_test_split(desc_vars.values, detected.values, train_size=0.7, random_state=42)\n",
    "scaled_knn=KNeighborsClassifier()\n",
    "\n",
    "scaled_knn.fit(X_train, Y_train)\n",
    "\n",
    "# Prédiction sur les données de test\n",
    "predictions = scaled_knn.predict(X_test)\n",
    "\n",
    "# Résultats\n",
    "print(classification_report(Y_test, predictions))"
   ]
  },
  {
   "cell_type": "markdown",
   "metadata": {},
   "source": [
    "Votre réponse ici :\n",
    "\n",
    "..."
   ]
  },
  {
   "cell_type": "markdown",
   "metadata": {},
   "source": [
    "## Et pour la suite ? Ton TP est trop simple\n",
    "\n",
    "* Vous pouvez essayer avec d'autres algorithmes\n",
    "* Voir plusieurs en même temps avec des algorithmes d'ensemble\n",
    "* Essayer d'autres encoders pour encore nettoyer les données\n",
    "* Evaluer l'under/overfitting à l'aide de d'une [Courbe ROC](https://scikit-learn.org/stable/modules/generated/sklearn.metrics.RocCurveDisplay.html#sklearn.metrics.RocCurveDisplay)\n",
    "* Développer une petite application web qui permet d'ajouter de nouvelles données et de retourner la prédiction\n",
    "* Et tant d'autres choses !\n",
    "\n",
    "Vous l'aurez compris : l'amélioration de performance d'un modèle est un **processus itératif** et nous pourrions sans problème passer 1 semaine sur ce projet."
   ]
  }
 ],
 "metadata": {
  "interpreter": {
   "hash": "375b9a54a7c4ac4bb4aa5d9fbfe087ea9a53be6e8e1bef9cdca9ed2762156025"
  },
  "kernelspec": {
   "display_name": "Python 3.9.1 64-bit",
   "name": "python3"
  },
  "language_info": {
   "codemirror_mode": {
    "name": "ipython",
    "version": 3
   },
   "file_extension": ".py",
   "mimetype": "text/x-python",
   "name": "python",
   "nbconvert_exporter": "python",
   "pygments_lexer": "ipython3",
   "version": "3.9.1"
  },
  "orig_nbformat": 4
 },
 "nbformat": 4,
 "nbformat_minor": 2
}
